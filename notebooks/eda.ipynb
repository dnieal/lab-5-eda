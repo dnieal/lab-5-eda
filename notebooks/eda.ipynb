{
 "cells": [
  {
   "cell_type": "markdown",
   "id": "809496ae",
   "metadata": {},
   "source": [
    "# Lab 5 | EDA & Visualisation."
   ]
  },
  {
   "cell_type": "code",
   "execution_count": 38,
   "id": "6c1a8df2",
   "metadata": {},
   "outputs": [
    {
     "data": {
      "text/html": [
       "<div>\n",
       "<style scoped>\n",
       "    .dataframe tbody tr th:only-of-type {\n",
       "        vertical-align: middle;\n",
       "    }\n",
       "\n",
       "    .dataframe tbody tr th {\n",
       "        vertical-align: top;\n",
       "    }\n",
       "\n",
       "    .dataframe thead th {\n",
       "        text-align: right;\n",
       "    }\n",
       "</style>\n",
       "<table border=\"1\" class=\"dataframe\">\n",
       "  <thead>\n",
       "    <tr style=\"text-align: right;\">\n",
       "      <th></th>\n",
       "      <th>student_id</th>\n",
       "      <th>age</th>\n",
       "      <th>gpa</th>\n",
       "      <th>gender</th>\n",
       "      <th>major</th>\n",
       "      <th>year</th>\n",
       "    </tr>\n",
       "  </thead>\n",
       "  <tbody>\n",
       "    <tr>\n",
       "      <th>0</th>\n",
       "      <td>1</td>\n",
       "      <td>14</td>\n",
       "      <td>NaN</td>\n",
       "      <td>F</td>\n",
       "      <td>Economics</td>\n",
       "      <td>freshman</td>\n",
       "    </tr>\n",
       "    <tr>\n",
       "      <th>1</th>\n",
       "      <td>2</td>\n",
       "      <td>17</td>\n",
       "      <td>2.92</td>\n",
       "      <td>M</td>\n",
       "      <td>History</td>\n",
       "      <td>senior</td>\n",
       "    </tr>\n",
       "    <tr>\n",
       "      <th>2</th>\n",
       "      <td>3</td>\n",
       "      <td>17</td>\n",
       "      <td>2.97</td>\n",
       "      <td>F</td>\n",
       "      <td>Physics</td>\n",
       "      <td>senior</td>\n",
       "    </tr>\n",
       "    <tr>\n",
       "      <th>3</th>\n",
       "      <td>4</td>\n",
       "      <td>16</td>\n",
       "      <td>2.76</td>\n",
       "      <td>F</td>\n",
       "      <td>Physics</td>\n",
       "      <td>junior</td>\n",
       "    </tr>\n",
       "    <tr>\n",
       "      <th>4</th>\n",
       "      <td>5</td>\n",
       "      <td>16</td>\n",
       "      <td>2.24</td>\n",
       "      <td>M</td>\n",
       "      <td>Chemistry</td>\n",
       "      <td>junior</td>\n",
       "    </tr>\n",
       "  </tbody>\n",
       "</table>\n",
       "</div>"
      ],
      "text/plain": [
       "   student_id  age   gpa gender      major      year\n",
       "0           1   14   NaN      F  Economics  freshman\n",
       "1           2   17  2.92      M    History    senior\n",
       "2           3   17  2.97      F    Physics    senior\n",
       "3           4   16  2.76      F    Physics    junior\n",
       "4           5   16  2.24      M  Chemistry    junior"
      ]
     },
     "execution_count": 38,
     "metadata": {},
     "output_type": "execute_result"
    }
   ],
   "source": [
    "# Task A\n",
    "\n",
    "import pandas as pd\n",
    "df = pd.read_csv(\"../data/students.csv\")\n",
    "df.head()"
   ]
  },
  {
   "cell_type": "code",
   "execution_count": 39,
   "id": "efa77baf",
   "metadata": {},
   "outputs": [
    {
     "name": "stdout",
     "output_type": "stream",
     "text": [
      "<class 'pandas.core.frame.DataFrame'>\n",
      "RangeIndex: 100 entries, 0 to 99\n",
      "Data columns (total 6 columns):\n",
      " #   Column      Non-Null Count  Dtype  \n",
      "---  ------      --------------  -----  \n",
      " 0   student_id  100 non-null    int64  \n",
      " 1   age         100 non-null    int64  \n",
      " 2   gpa         90 non-null     float64\n",
      " 3   gender      100 non-null    object \n",
      " 4   major       95 non-null     object \n",
      " 5   year        100 non-null    object \n",
      "dtypes: float64(1), int64(2), object(3)\n",
      "memory usage: 4.8+ KB\n"
     ]
    },
    {
     "data": {
      "text/plain": [
       "student_id     0\n",
       "age            0\n",
       "gpa           10\n",
       "gender         0\n",
       "major          5\n",
       "year           0\n",
       "dtype: int64"
      ]
     },
     "execution_count": 39,
     "metadata": {},
     "output_type": "execute_result"
    }
   ],
   "source": [
    "# Task B\n",
    "df.info()\n",
    "df.isna().sum()"
   ]
  },
  {
   "cell_type": "markdown",
   "id": "b8ac19fa",
   "metadata": {},
   "source": [
    "The GPA column has the most missing values. This may be because some first year students may not have finished any classes yet, so they wouldn't have a GPA. "
   ]
  },
  {
   "cell_type": "code",
   "execution_count": 40,
   "id": "76516f06",
   "metadata": {},
   "outputs": [
    {
     "data": {
      "text/html": [
       "<div>\n",
       "<style scoped>\n",
       "    .dataframe tbody tr th:only-of-type {\n",
       "        vertical-align: middle;\n",
       "    }\n",
       "\n",
       "    .dataframe tbody tr th {\n",
       "        vertical-align: top;\n",
       "    }\n",
       "\n",
       "    .dataframe thead th {\n",
       "        text-align: right;\n",
       "    }\n",
       "</style>\n",
       "<table border=\"1\" class=\"dataframe\">\n",
       "  <thead>\n",
       "    <tr style=\"text-align: right;\">\n",
       "      <th></th>\n",
       "      <th>Statistic</th>\n",
       "      <th>count</th>\n",
       "      <th>mean</th>\n",
       "      <th>median</th>\n",
       "      <th>variance</th>\n",
       "      <th>SD</th>\n",
       "      <th>min</th>\n",
       "      <th>max</th>\n",
       "    </tr>\n",
       "  </thead>\n",
       "  <tbody>\n",
       "    <tr>\n",
       "      <th>0</th>\n",
       "      <td>GPA</td>\n",
       "      <td>90</td>\n",
       "      <td>2.624667</td>\n",
       "      <td>2.665</td>\n",
       "      <td>0.227432</td>\n",
       "      <td>0.476898</td>\n",
       "      <td>1.63</td>\n",
       "      <td>3.93</td>\n",
       "    </tr>\n",
       "    <tr>\n",
       "      <th>1</th>\n",
       "      <td>Age</td>\n",
       "      <td>100</td>\n",
       "      <td>16.130000</td>\n",
       "      <td>16.000</td>\n",
       "      <td>0.227432</td>\n",
       "      <td>1.375507</td>\n",
       "      <td>14.00</td>\n",
       "      <td>18.00</td>\n",
       "    </tr>\n",
       "  </tbody>\n",
       "</table>\n",
       "</div>"
      ],
      "text/plain": [
       "  Statistic  count       mean  median  variance        SD    min    max\n",
       "0       GPA     90   2.624667   2.665  0.227432  0.476898   1.63   3.93\n",
       "1       Age    100  16.130000  16.000  0.227432  1.375507  14.00  18.00"
      ]
     },
     "execution_count": 40,
     "metadata": {},
     "output_type": "execute_result"
    }
   ],
   "source": [
    "# Task C\n",
    "\n",
    "data = {'Statistic': ['GPA', 'Age'], 'count': [df['gpa'].count(), df['age'].count()], \n",
    "        'mean': [df['gpa'].mean(), df['age'].mean()], 'median': [df['gpa'].median(), df['age'].median()], \n",
    "        'variance': [df['gpa'].var(), df['gpa'].var()], 'SD': [df['gpa'].std(), df['age'].std()], \n",
    "        'min': [df['gpa'].min(), df['age'].min()], 'max': [df['gpa'].max(), df['age'].max()]}\n",
    "\n",
    "summary = pd.DataFrame(data)\n",
    "summary.head()"
   ]
  },
  {
   "cell_type": "code",
   "execution_count": 41,
   "id": "0dc2f565",
   "metadata": {},
   "outputs": [
    {
     "data": {
      "image/png": "[encoded data removed]",
      "text/plain": [
       "<Figure size 640x480 with 2 Axes>"
      ]
     },
     "metadata": {},
     "output_type": "display_data"
    }
   ],
   "source": [
    "# Task D\n",
    "\n",
    "import seaborn as sns\n",
    "import matplotlib.pyplot as plt\n",
    "\n",
    "plt.subplot(2, 1, 1)\n",
    "plt.hist(df[\"age\"], bins = 5, range = [14, 19], edgecolor='black', alpha=0.7)\n",
    "plt.xlabel(\"Ages\")\n",
    "plt.ylabel(\"Frequency\")\n",
    "plt.title(\"Distribution of Ages Among Students\")\n",
    "\n",
    "plt.subplot(2, 1, 2)\n",
    "plt.hist(df[\"gpa\"], bins = 10, range = [1.5, 4], edgecolor='black', alpha=0.7)\n",
    "plt.xlabel(\"GPA\")\n",
    "plt.ylabel(\"Frequency\")\n",
    "plt.title(\"Distribution of GPA Among Students\")\n",
    "\n",
    "plt.subplots_adjust(hspace=0.8)\n",
    "\n",
    "plt.show()\n"
   ]
  },
  {
   "cell_type": "code",
   "execution_count": 42,
   "id": "c0557483",
   "metadata": {},
   "outputs": [
    {
     "data": {
      "image/png": "[encoded data removed]",
      "text/plain": [
       "<Figure size 640x480 with 1 Axes>"
      ]
     },
     "metadata": {},
     "output_type": "display_data"
    },
    {
     "name": "stdout",
     "output_type": "stream",
     "text": [
      "0.8786075344584666\n"
     ]
    }
   ],
   "source": [
    "# Task E\n",
    "\n",
    "plt.scatter(df[\"age\"], df[\"gpa\"])\n",
    "plt.xlabel(\"Ages\")\n",
    "plt.ylabel(\"GPA\")\n",
    "plt.title(\"GPA vs. Age Among Students\")\n",
    "plt.show()\n",
    "\n",
    "print(df[\"age\"].corr(df[\"gpa\"], method = \"pearson\"))"
   ]
  },
  {
   "cell_type": "markdown",
   "id": "748703cb",
   "metadata": {},
   "source": [
    "There is a strong positive linear correlation between GPA and Age in the dataset. "
   ]
  },
  {
   "cell_type": "code",
   "execution_count": 43,
   "id": "a6c43801",
   "metadata": {},
   "outputs": [],
   "source": [
    "# Task F\n",
    "\n",
    "import numpy as np\n",
    "\n",
    "df[\"major\"] = df[\"major\"].str.lower()\n",
    "df[\"major\"] = df[\"major\"].str.strip()\n",
    "df[\"major\"] = df[\"major\"].replace(\" \", np.nan)\n",
    "df = df[df['major'].notna()]"
   ]
  },
  {
   "cell_type": "code",
   "execution_count": 44,
   "id": "9b9baf22",
   "metadata": {},
   "outputs": [],
   "source": [
    "# Task G\n",
    "\n",
    "df_clean = pd.DataFrame(df)\n",
    "df_clean.to_csv('../data/students_clean.csv', index = False)"
   ]
  },
  {
   "cell_type": "markdown",
   "id": "35abf9c9",
   "metadata": {},
   "source": [
    "Task H\n",
    "\n",
    "The ages for the students are mostly uniformly distributed from 14 to 18. The GPA distribution for the students is roughly symmetric with a mean of around 2.60 and a standard deviation of around 0.5. There are a few students who do not have a major or GPA, which is likely because they are freshman. "
   ]
  }
 ],
 "metadata": {
  "kernelspec": {
   "display_name": "lab_5",
   "language": "python",
   "name": "python3"
  },
  "language_info": {
   "codemirror_mode": {
    "name": "ipython",
    "version": 3
   },
   "file_extension": ".py",
   "mimetype": "text/x-python",
   "name": "python",
   "nbconvert_exporter": "python",
   "pygments_lexer": "ipython3",
   "version": "3.13.5"
  }
 },
 "nbformat": 4,
 "nbformat_minor": 5
}
